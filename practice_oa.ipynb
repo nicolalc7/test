{
 "cells": [
  {
   "cell_type": "code",
   "execution_count": null,
   "id": "7eee148a-9a72-42e5-8329-6ea5f1497d7b",
   "metadata": {},
   "outputs": [],
   "source": [
    "print(\"Hello, practice OA\")"
   ]
  },
  {
   "cell_type": "code",
   "execution_count": null,
   "id": "47513822-4f81-47e4-ad0e-102265e939dd",
   "metadata": {},
   "outputs": [],
   "source": [
    "print(\"Hi\")"
   ]
  }
 ],
 "metadata": {
  "kernelspec": {
   "display_name": "Python 3 (ipykernel)",
   "language": "python",
   "name": "python3"
  },
  "language_info": {
   "codemirror_mode": {
    "name": "ipython",
    "version": 3
   },
   "file_extension": ".py",
   "mimetype": "text/x-python",
   "name": "python",
   "nbconvert_exporter": "python",
   "pygments_lexer": "ipython3",
   "version": "3.10.6"
  }
 },
 "nbformat": 4,
 "nbformat_minor": 5
}
